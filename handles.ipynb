{
 "cells": [
  {
   "cell_type": "code",
   "execution_count": 1,
   "metadata": {
    "pycharm": {
     "name": "#%%\n"
    }
   },
   "outputs": [],
   "source": [
    "from hmr import Reloader\n",
    "import legendkit as lk\n",
    "lk = Reloader(lk)"
   ]
  },
  {
   "cell_type": "code",
   "execution_count": 2,
   "metadata": {
    "pycharm": {
     "name": "#%%\n"
    }
   },
   "outputs": [],
   "source": [
    "%config InlineBackend.figure_format = 'retina'\n",
    "import matplotlib.pyplot as plt\n",
    "from matplotlib.legend_handler import HandlerBase, HandlerPatch\n",
    "from matplotlib.patches import Rectangle, Circle\n",
    "\n",
    "from abc import ABC\n",
    "\n",
    "from matplotlib.lines import Line2D\n",
    "from matplotlib.patches import Patch\n",
    "from matplotlib.collections import Collection, PatchCollection"
   ]
  },
  {
   "cell_type": "code",
   "execution_count": 3,
   "metadata": {
    "pycharm": {
     "name": "#%%\n"
    }
   },
   "outputs": [],
   "source": [
    "class BoxplotHanlder(HandlerPatch):\n",
    "    def _create_patch(self, legend, orig_handle,\n",
    "                      xdescent, ydescent, width, height, fontsize):\n",
    "        #print(xdescent, ydescent, width, height, fontsize)\n",
    "        if width / height < 1.2:\n",
    "            height = height * 0.6\n",
    "            ydescent = ydescent - height * 0.2\n",
    "        #print(xdescent, ydescent)\n",
    "        box_w, box_h = 0.9, 0.6\n",
    "        woffset = (1 - box_w) / 2\n",
    "        hoffset = (1 - box_h) / 2\n",
    "        box = Rectangle(xy=(-xdescent + woffset * width, -ydescent + height * hoffset),\n",
    "                      width=width * box_w, height=height * box_h)\n",
    "        \n",
    "        linewidth = 1\n",
    "        vline = Rectangle(xy=(-xdescent + width / 2 - linewidth / 2, -ydescent), \n",
    "                         width=linewidth / 2, height=height)\n",
    "        \n",
    "        hline = Rectangle(xy=(-xdescent + woffset * width, \n",
    "                              -ydescent + height * 0.5 - linewidth / 4), \n",
    "                          width=width * box_w, \n",
    "                          height=linewidth /2)\n",
    "        \n",
    "        return PatchCollection([vline, box, hline], match_original=True)\n",
    "    \n",
    "    def create_artists(self, legend, orig_handle,\n",
    "                   xdescent, ydescent, width, height, fontsize, trans):\n",
    "        p = self._create_patch(legend, orig_handle,\n",
    "                               xdescent, ydescent, width, height, fontsize)\n",
    "        self.update_prop(p, orig_handle, legend)\n",
    "        p.set_transform(trans)\n",
    "        return [p]\n",
    "    \n",
    "    \n",
    "class BoxplotItem(Collection, ABC):\n",
    "    \n",
    "        def __init__(self, *args, **kwargs):\n",
    "            user_ec = kwargs.get('ec')\n",
    "            user_edgecolor = kwargs.get('edgecolor')\n",
    "            if (user_ec is None) & (user_edgecolor is None):\n",
    "                kwargs['ec'] = \"black\"\n",
    "            super().__init__(*args, **kwargs)"
   ]
  },
  {
   "cell_type": "code",
   "execution_count": 4,
   "metadata": {
    "pycharm": {
     "name": "#%%\n"
    }
   },
   "outputs": [],
   "source": [
    "from matplotlib.legend import Legend\n",
    "\n",
    "_default_handlers = Legend.get_default_handler_map()\n",
    "Legend.set_default_handler_map({**_default_handlers,\n",
    "                                BoxplotItem: BoxplotHanlder(),\n",
    "                                })"
   ]
  },
  {
   "cell_type": "code",
   "execution_count": 10,
   "metadata": {
    "pycharm": {
     "name": "#%%\n"
    }
   },
   "outputs": [
    {
     "name": "stdout",
     "output_type": "stream",
     "text": [
      "15.45\n"
     ]
    },
    {
     "data": {
      "image/png": "[encoded data removed]",
      "text/plain": [
       "<Figure size 72x108 with 1 Axes>"
      ]
     },
     "metadata": {
      "image/png": {
       "height": 95,
       "width": 90
      },
      "needs_background": "light"
     },
     "output_type": "display_data"
    }
   ],
   "source": [
    "_, ax = plt.subplots(figsize=(1, 1.5))\n",
    "lk.legend(\n",
    "    handles=[lk.SquareItem(ec=\"black\"), BoxplotItem(fc=\"green\")],\n",
    "    labels=['Square', 'Box'],\n",
    "    handlelength=2,\n",
    "    handleheight=2,\n",
    "    frameon=False\n",
    ")\n",
    "ax.set_axis_off()"
   ]
  },
  {
   "cell_type": "code",
   "execution_count": null,
   "metadata": {
    "pycharm": {
     "name": "#%%\n"
    }
   },
   "outputs": [],
   "source": []
  },
  {
   "cell_type": "code",
   "execution_count": null,
   "metadata": {
    "pycharm": {
     "name": "#%%\n"
    }
   },
   "outputs": [],
   "source": []
  },
  {
   "cell_type": "code",
   "execution_count": null,
   "metadata": {
    "pycharm": {
     "name": "#%%\n"
    }
   },
   "outputs": [],
   "source": []
  }
 ],
 "metadata": {
  "kernelspec": {
   "display_name": "Python [conda env:root] *",
   "language": "python",
   "name": "conda-root-py"
  },
  "language_info": {
   "codemirror_mode": {
    "name": "ipython",
    "version": 3
   },
   "file_extension": ".py",
   "mimetype": "text/x-python",
   "name": "python",
   "nbconvert_exporter": "python",
   "pygments_lexer": "ipython3",
   "version": "3.7.4"
  }
 },
 "nbformat": 4,
 "nbformat_minor": 4
}
