{
 "cells": [
  {
   "cell_type": "code",
   "execution_count": 1,
   "metadata": {},
   "outputs": [
    {
     "ename": "ModuleNotFoundError",
     "evalue": "No module named 'matplotlib'",
     "output_type": "error",
     "traceback": [
      "\u001B[0;31m---------------------------------------------------------------------------\u001B[0m",
      "\u001B[0;31mModuleNotFoundError\u001B[0m                       Traceback (most recent call last)",
      "\u001B[0;32m<ipython-input-1-f280962fbe07>\u001B[0m in \u001B[0;36m<module>\u001B[0;34m\u001B[0m\n\u001B[1;32m      2\u001B[0m \u001B[0;32mimport\u001B[0m \u001B[0mnumpy\u001B[0m \u001B[0;32mas\u001B[0m \u001B[0mnp\u001B[0m\u001B[0;34m\u001B[0m\u001B[0;34m\u001B[0m\u001B[0m\n\u001B[1;32m      3\u001B[0m \u001B[0;34m\u001B[0m\u001B[0m\n\u001B[0;32m----> 4\u001B[0;31m \u001B[0;32mimport\u001B[0m \u001B[0mmatplotlib\u001B[0m \u001B[0;32mas\u001B[0m \u001B[0mmpl\u001B[0m\u001B[0;34m\u001B[0m\u001B[0;34m\u001B[0m\u001B[0m\n\u001B[0m\u001B[1;32m      5\u001B[0m \u001B[0;32mimport\u001B[0m \u001B[0mmatplotlib\u001B[0m\u001B[0;34m.\u001B[0m\u001B[0mpyplot\u001B[0m \u001B[0;32mas\u001B[0m \u001B[0mplt\u001B[0m\u001B[0;34m\u001B[0m\u001B[0;34m\u001B[0m\u001B[0m\n\u001B[1;32m      6\u001B[0m \u001B[0;34m\u001B[0m\u001B[0m\n",
      "\u001B[0;31mModuleNotFoundError\u001B[0m: No module named 'matplotlib'"
     ]
    }
   ],
   "source": [
    "%config InlineBackend.figure_format = 'retina'\n",
    "import numpy as np\n",
    "\n",
    "import matplotlib as mpl\n",
    "import matplotlib.pyplot as plt\n",
    "\n",
    "from matplotlib.offsetbox import OffsetImage, DrawingArea, TextArea, PackerBase, \\\n",
    "    VPacker, HPacker, AnchoredOffsetbox, AnnotationBbox\n",
    "from matplotlib.axis import YTick\n",
    "from matplotlib.lines import Line2D\n",
    "from matplotlib.text import Text\n",
    "\n",
    "from matplotlib.image import BboxImage\n",
    "from matplotlib.transforms import Bbox, TransformedBbox\n",
    "from matplotlib.collections import LineCollection, PatchCollection\n",
    "from matplotlib.patches import Rectangle, Ellipse, Circle\n",
    "\n",
    "from matplotlib.ticker import Locator, FixedLocator, AutoLocator, MaxNLocator\n",
    "from matplotlib.artist import Artist, allow_rasterization"
   ]
  },
  {
   "cell_type": "code",
   "execution_count": 2,
   "metadata": {
    "collapsed": false,
    "jupyter": {
     "outputs_hidden": false
    },
    "pycharm": {
     "name": "#%%\n"
    }
   },
   "outputs": [
    {
     "name": "stdout",
     "output_type": "stream",
     "text": [
      "Requirement already satisfied: matplotlib in /Users/milk/opt/anaconda3/lib/python3.7/site-packages (3.1.1)\n",
      "Requirement already satisfied: cycler>=0.10 in /Users/milk/opt/anaconda3/lib/python3.7/site-packages (from matplotlib) (0.10.0)\n",
      "Requirement already satisfied: kiwisolver>=1.0.1 in /Users/milk/opt/anaconda3/lib/python3.7/site-packages (from matplotlib) (1.1.0)\n",
      "Requirement already satisfied: pyparsing!=2.0.4,!=2.1.2,!=2.1.6,>=2.0.1 in /Users/milk/opt/anaconda3/lib/python3.7/site-packages (from matplotlib) (2.4.2)\n",
      "Requirement already satisfied: python-dateutil>=2.1 in /Users/milk/opt/anaconda3/lib/python3.7/site-packages (from matplotlib) (2.8.0)\n",
      "Requirement already satisfied: numpy>=1.11 in /Users/milk/opt/anaconda3/lib/python3.7/site-packages (from matplotlib) (1.17.2)\n",
      "Requirement already satisfied: six in /Users/milk/opt/anaconda3/lib/python3.7/site-packages (from cycler>=0.10->matplotlib) (1.12.0)\n",
      "Requirement already satisfied: setuptools in /Users/milk/opt/anaconda3/lib/python3.7/site-packages (from kiwisolver>=1.0.1->matplotlib) (46.4.0)\n",
      "\u001B[33mWARNING: You are using pip version 21.2.4; however, version 22.2.2 is available.\n",
      "You should consider upgrading via the '/Users/milk/opt/anaconda3/bin/python -m pip install --upgrade pip' command.\u001B[0m\n"
     ]
    }
   ],
   "source": [
    "!pip install matplotlib"
   ]
  },
  {
   "cell_type": "code",
   "execution_count": null,
   "metadata": {},
   "outputs": [],
   "source": [
    "import legendkit as lk"
   ]
  },
  {
   "cell_type": "code",
   "execution_count": null,
   "metadata": {},
   "outputs": [],
   "source": [
    "class ColorArt(Artist):\n",
    "    \n",
    "    def __init__(self, ax):\n",
    "        fontsize = mpl.rcParams['font.size']\n",
    "        super().__init__()\n",
    "        cbar_w, cbar_h = 2 * fontsize, 8 * fontsize\n",
    "        linewidth = 1\n",
    "        da = DrawingArea(cbar_w, cbar_h)\n",
    "\n",
    "        locator = FixedLocator(np.linspace(-1, 5.1, 6))\n",
    "        print(locator.view_limits(-1, 5.1))\n",
    "        ticks = locator.tick_values(-1, 5.1)\n",
    "        print(ticks)\n",
    "\n",
    "        ticklen = 0.25\n",
    "\n",
    "\n",
    "        lines1 = LineCollection([[(0, i), (cbar_w*ticklen, i)] for i in np.linspace(0, cbar_h, len(ticks))], \n",
    "                               color=\"w\", zorder=100, \n",
    "                               visible=True, linewidth=linewidth)\n",
    "\n",
    "        lines2 = LineCollection([[(cbar_w, i), (cbar_w - cbar_w*ticklen, i)] for i in np.linspace(0, cbar_h, len(ticks))], \n",
    "                               color=\"w\", zorder=100, \n",
    "                               visible=True, linewidth=linewidth)\n",
    "\n",
    "\n",
    "        texts = []\n",
    "        textpad = mpl.rcParams['legend.handletextpad']\n",
    "        text_canvas = DrawingArea(0, 0)\n",
    "        for ix, i in enumerate(np.linspace(0, cbar_h, len(ticks))):\n",
    "            t = Text(textpad, i, text=ticks[ix], va=\"center\", ha=\"left\")\n",
    "            text_canvas.add_artist(t)\n",
    "\n",
    "        title = Text(0, cbar_h + fontsize/2, text=\"Title\", fontweight=600)\n",
    "        #da.add_artist(title)\n",
    "        #line = YTick(ax, None)\n",
    "\n",
    "        # da.add_artist(im)\n",
    "        da.add_artist(lines1)\n",
    "        da.add_artist(lines2)\n",
    "\n",
    "        title_canvas = DrawingArea(0, 0)\n",
    "        title_canvas.add_artist(Text(0, 8, text=\"Title\", fontweight=600))\n",
    "        title_canvas.set(width=0, height=0)\n",
    "\n",
    "        pack0 = VPacker(pad=0, sep=0, children=[title_canvas, da])\n",
    "        pack1 = HPacker(pad=0, sep=0, align=\"top\", children=[pack0, text_canvas])\n",
    "        pack2 = AnchoredOffsetbox(pad=0, child=pack1, loc=\"lower left\", frameon=False)\n",
    "\n",
    "        bbox_image = BboxImage(pack2.get_window_extent,\n",
    "                               cmap=\"bwr\",\n",
    "                               norm=None,\n",
    "                               origin=None,\n",
    "                               clip_on=False,\n",
    "                               )\n",
    "        a = np.arange(256)[::-1].reshape(256, 1)/256.\n",
    "        bbox_image.set_data(a)\n",
    "        \n",
    "        self.bbox_image = bbox_image\n",
    "        self.pack = pack2\n",
    "        \n",
    "    def get_extent(self, renderer):\n",
    "        return self.pack.get_extent(renderer)\n",
    "    \n",
    "    def set_offset(self, xy):\n",
    "        pass\n",
    "        \n",
    "#         ax.add_artist(bbox_image)\n",
    "#         ax.add_artist(pack2)\n",
    "        "
   ]
  },
  {
   "cell_type": "code",
   "execution_count": null,
   "metadata": {},
   "outputs": [],
   "source": [
    "from matplotlib.colors import Colormap\n",
    "from matplotlib.cm import ScalarMappable, get_cmap"
   ]
  },
  {
   "cell_type": "code",
   "execution_count": null,
   "metadata": {},
   "outputs": [],
   "source": [
    "Ellipse?"
   ]
  },
  {
   "cell_type": "code",
   "execution_count": null,
   "metadata": {},
   "outputs": [],
   "source": [
    "_, ax = plt.subplots(figsize=(5, 5))\n",
    "\n",
    "w, h = 20, 80\n",
    "da = DrawingArea(w, h)\n",
    "\n",
    "cmap = get_cmap(\"bwr\")\n",
    "colors = cmap(np.arange(cmap.N))\n",
    "\n",
    "x, y = 0, 0\n",
    "dy = h / len(colors)\n",
    "\n",
    "rects = []\n",
    "for c in colors:\n",
    "    rects.append(\n",
    "        Rectangle((x, y), width=w, height=dy, fc=c)\n",
    "    )\n",
    "    y += dy\n",
    "\n",
    "patches = PatchCollection(rects, match_original=True)\n",
    "# Enable clip on ellipse\n",
    "# patches.set_clip_path(Ellipse((w/2, h/2), w, h, transform=da.get_transform()))\n",
    "\n",
    "da.add_artist(patches)\n",
    "\n",
    "\n",
    "ac = AnchoredOffsetbox(pad=0, child=da, loc=\"lower left\", frameon=False)\n",
    "ax.add_artist(ac)"
   ]
  },
  {
   "cell_type": "code",
   "execution_count": null,
   "metadata": {},
   "outputs": [],
   "source": [
    "_, ax = plt.subplots(figsize=(5, 5))\n",
    "a = np.arange(100).reshape(10, 10)\n",
    "bbox_image = OffsetImage(a, cmap=\"bwr\", zoom=3)\n",
    "da = DrawingArea(10, 10)\n",
    "da.add_artist(bbox_image)\n",
    "da.add_artist(Text(10, 10, \"test\"))\n",
    "vp = VPacker(pad=0, sep=1, children=[\n",
    "    da,\n",
    "    AnnotationBbox(bbox_image, (10, 10))\n",
    "])\n",
    "ac = AnchoredOffsetbox(pad=0, child=da, loc=\"upper right\", frameon=True)\n",
    "ax.add_artist(ac)"
   ]
  },
  {
   "cell_type": "code",
   "execution_count": null,
   "metadata": {},
   "outputs": [],
   "source": []
  }
 ],
 "metadata": {
  "kernelspec": {
   "display_name": "Python 3",
   "language": "python",
   "name": "python3"
  },
  "language_info": {
   "codemirror_mode": {
    "name": "ipython",
    "version": 3
   },
   "file_extension": ".py",
   "mimetype": "text/x-python",
   "name": "python",
   "nbconvert_exporter": "python",
   "pygments_lexer": "ipython3",
   "version": "3.8.0"
  }
 },
 "nbformat": 4,
 "nbformat_minor": 4
}